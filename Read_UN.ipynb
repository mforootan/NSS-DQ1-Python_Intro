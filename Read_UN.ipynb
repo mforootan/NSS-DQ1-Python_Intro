{
 "cells": [
  {
   "cell_type": "code",
   "execution_count": null,
   "metadata": {
    "collapsed": true
   },
   "outputs": [],
   "source": [
    "import pandas as pd \n",
    "import matplotlib as mpl \n",
    "import numpy as np \n",
    "import matplotlib.pyplot as plt\n",
    "import seaborn as sns"
   ]
  },
  {
   "cell_type": "code",
   "execution_count": null,
   "metadata": {
    "collapsed": true
   },
   "outputs": [],
   "source": [
    "%matplotlib inline"
   ]
  },
  {
   "cell_type": "markdown",
   "metadata": {},
   "source": [
    "# Using the pandas read_csv() function, read the two datasets into your notebook."
   ]
  },
  {
   "cell_type": "code",
   "execution_count": null,
   "metadata": {
    "collapsed": true
   },
   "outputs": [],
   "source": [
    "migrat_net = pd.read_csv(\"Net_Migration.csv\")"
   ]
  },
  {
   "cell_type": "code",
   "execution_count": null,
   "metadata": {
    "collapsed": true
   },
   "outputs": [],
   "source": [
    "web_use = pd.read_csv(\"Internet_Use.csv\",nrows=4495)"
   ]
  },
  {
   "cell_type": "markdown",
   "metadata": {},
   "source": [
    "# Take a look at the data types and the first 6 rows for both datasets.\n",
    "# Drop the footnotes data from both datasets.\n",
    "### Done above"
   ]
  },
  {
   "cell_type": "code",
   "execution_count": null,
   "metadata": {},
   "outputs": [],
   "source": [
    "migrat_net.head()"
   ]
  },
  {
   "cell_type": "code",
   "execution_count": null,
   "metadata": {},
   "outputs": [],
   "source": [
    "web_use.head()"
   ]
  },
  {
   "cell_type": "markdown",
   "metadata": {},
   "source": [
    "###### Change the columns for the Net Migration data frame to ‘Country’, ‘Year’, and ‘Net_Migration’.\n",
    "##### Change the columns for the Internet Users data frame to ‘Country’, ‘Year’, and ‘Internet_Users"
   ]
  },
  {
   "cell_type": "code",
   "execution_count": null,
   "metadata": {},
   "outputs": [],
   "source": [
    "webuse_nofoot = web_use.drop(['Value Footnotes'], axis=1)\n",
    "webuse_nofoot.columns = ['Country', 'Year', 'Web Usage']\n",
    "webuse_nofoot.head(1)"
   ]
  },
  {
   "cell_type": "code",
   "execution_count": null,
   "metadata": {},
   "outputs": [],
   "source": [
    "migrat_nofoot = migrat_net.drop('Value Footnotes', axis=1)\n",
    "migrat_nofoot.columns = ['Country', 'Year', 'Migration %']\n",
    "migrat_nofoot.head(1)"
   ]
  },
  {
   "cell_type": "markdown",
   "metadata": {},
   "source": [
    "### Merge the two data frames to one.\n",
    "### Look at the first five rows of your new data frame to confirm it merged correctly.\n",
    "### Look at the last five rows."
   ]
  },
  {
   "cell_type": "code",
   "execution_count": null,
   "metadata": {
    "collapsed": true
   },
   "outputs": [],
   "source": [
    "merge_list = pd.merge(webuse_nofoot , migrat_nofoot, on=['Year' , 'Country'])"
   ]
  },
  {
   "cell_type": "code",
   "execution_count": null,
   "metadata": {},
   "outputs": [],
   "source": [
    "merge_list.head(5)"
   ]
  },
  {
   "cell_type": "code",
   "execution_count": null,
   "metadata": {},
   "outputs": [],
   "source": [
    "merge_list.tail(5)"
   ]
  },
  {
   "cell_type": "markdown",
   "metadata": {},
   "source": [
    "##### Subset the combined data frame to keep only the data for 2002, 2007, and 2012."
   ]
  },
  {
   "cell_type": "code",
   "execution_count": null,
   "metadata": {
    "collapsed": true
   },
   "outputs": [],
   "source": [
    "yearfilter=merge_list[(merge_list.Year==2002)|(merge_list.Year==2007)|(merge_list.Year==2012)]"
   ]
  },
  {
   "cell_type": "markdown",
   "metadata": {},
   "source": [
    "#### Create three new data frames, one for 2002, one for 2007, and one for 2012."
   ]
  },
  {
   "cell_type": "code",
   "execution_count": null,
   "metadata": {
    "collapsed": true
   },
   "outputs": [],
   "source": [
    "yearfilter02=merge_list[(merge_list.Year==2002)]"
   ]
  },
  {
   "cell_type": "code",
   "execution_count": null,
   "metadata": {
    "collapsed": true
   },
   "outputs": [],
   "source": [
    "yearfilter07=merge_list[(merge_list.Year==2007)]"
   ]
  },
  {
   "cell_type": "code",
   "execution_count": null,
   "metadata": {
    "collapsed": true
   },
   "outputs": [],
   "source": [
    "yearfilter12=merge_list[(merge_list.Year==2012)]"
   ]
  },
  {
   "cell_type": "markdown",
   "metadata": {},
   "source": [
    "##### Which country had the highest percent of internet users in 2012? What was the percentage?\n",
    "\n",
    "##### Which country had the lowest percent of internet users in 2012? What was the percentage?\n"
   ]
  },
  {
   "cell_type": "code",
   "execution_count": null,
   "metadata": {},
   "outputs": [],
   "source": [
    "yearfilter12_sort=yearfilter12.sort_values(by = 'Web Usage', axis=0, ascending=False)\n",
    "yearfilter12_sort.head(5)"
   ]
  },
  {
   "cell_type": "code",
   "execution_count": null,
   "metadata": {},
   "outputs": [],
   "source": [
    "yearfilter12_sort.tail(5)"
   ]
  },
  {
   "cell_type": "markdown",
   "metadata": {},
   "source": [
    "###  Repeat for 2002 and 2007."
   ]
  },
  {
   "cell_type": "code",
   "execution_count": null,
   "metadata": {},
   "outputs": [],
   "source": [
    "yearfilter02_sort=yearfilter02.sort_values(by = 'Web Usage', axis=0, ascending=False)\n",
    "yearfilter02_sort.head(5)"
   ]
  },
  {
   "cell_type": "code",
   "execution_count": null,
   "metadata": {},
   "outputs": [],
   "source": [
    "yearfilter02_sort.tail(5)"
   ]
  },
  {
   "cell_type": "code",
   "execution_count": null,
   "metadata": {},
   "outputs": [],
   "source": [
    "yearfilter07_sort=yearfilter07.sort_values(by = 'Web Usage', axis=0, ascending=False)\n",
    "yearfilter07_sort.head(5)"
   ]
  },
  {
   "cell_type": "code",
   "execution_count": null,
   "metadata": {},
   "outputs": [],
   "source": [
    "yearfilter07_sort.tail(5)"
   ]
  },
  {
   "cell_type": "markdown",
   "metadata": {},
   "source": [
    "### Which country had the highest net migration in 2012? What was the net migration?"
   ]
  },
  {
   "cell_type": "code",
   "execution_count": null,
   "metadata": {
    "collapsed": true
   },
   "outputs": [],
   "source": [
    "yearfilter12m_sort=yearfilter12.sort_values(by = 'Migration %', axis=0, ascending=False)\n",
    "yearfilter12m_sort.head(5)\n",
    "yearfilter07m_sort=yearfilter07.sort_values(by = 'Migration %', axis=0, ascending=False)\n",
    "yearfilter02m_sort=yearfilter02.sort_values(by = 'Migration %', axis=0, ascending=False)"
   ]
  },
  {
   "cell_type": "markdown",
   "metadata": {},
   "source": [
    "###  Which country had the lowest net migration in 2012? What was the net migration?"
   ]
  },
  {
   "cell_type": "code",
   "execution_count": null,
   "metadata": {},
   "outputs": [],
   "source": [
    "yearfilter12m_sort.tail()"
   ]
  },
  {
   "cell_type": "markdown",
   "metadata": {},
   "source": [
    "## Create some scatterplots: \n",
    "#### a. 2002 Percent Using the Internet vs Net Migration \n",
    "#### b. 2007 Percent Using the Internet vs Net Migration \n",
    "#### c. 2012 Percent Using the Internet vs Net Migration"
   ]
  },
  {
   "cell_type": "code",
   "execution_count": null,
   "metadata": {},
   "outputs": [],
   "source": [
    "plt.scatter(x=yearfilter02['Web Usage'], y=yearfilter02['Migration %'])\n",
    "plt.xlabel('Web Usage')\n",
    "plt.ylabel('Migration')\n",
    "plt.show()"
   ]
  },
  {
   "cell_type": "code",
   "execution_count": null,
   "metadata": {
    "scrolled": true
   },
   "outputs": [],
   "source": [
    "plt.scatter(x=yearfilter07['Web Usage'], y=yearfilter07['Migration %'])\n",
    "plt.xlabel('Web Usage')\n",
    "plt.ylabel('Migration')\n",
    "plt.show()"
   ]
  },
  {
   "cell_type": "code",
   "execution_count": null,
   "metadata": {},
   "outputs": [],
   "source": [
    "plt.scatter(x=yearfilter12['Web Usage'], y=yearfilter12['Migration %'])\n",
    "plt.xlabel('Web Usage')\n",
    "plt.ylabel('Migration')\n",
    "plt.show()"
   ]
  },
  {
   "cell_type": "markdown",
   "metadata": {
    "collapsed": true
   },
   "source": [
    "##### Look at the distribution of Net Migration values for 2012. Is it unimodal?"
   ]
  },
  {
   "cell_type": "code",
   "execution_count": null,
   "metadata": {},
   "outputs": [],
   "source": [
    "plt.hist(yearfilter12['Migration %'])\n",
    "plt.xlabel('Migration')\n",
    "#plt.xticks(lambda x : x/1000)\n",
    "plt.show()"
   ]
  },
  {
   "cell_type": "markdown",
   "metadata": {},
   "source": [
    "#### Look at the distribution of Internet Use for 2012. Is it unimodal?"
   ]
  },
  {
   "cell_type": "code",
   "execution_count": null,
   "metadata": {},
   "outputs": [],
   "source": [
    "plt.hist(yearfilter12['Web Usage'])"
   ]
  },
  {
   "cell_type": "markdown",
   "metadata": {},
   "source": [
    "# What are the top 5 countries in terms of internet use in 2012?\n",
    "\n",
    "### Create a data frame called top_5_internet from the combined data frame that has all three years for these 5 countries. You should have 15 rows.\n",
    "\n"
   ]
  },
  {
   "cell_type": "code",
   "execution_count": null,
   "metadata": {
    "collapsed": true
   },
   "outputs": [],
   "source": [
    "top_5_countries=yearfilter12_sort.head(5)['Country']\n",
    "df_top_5_12=pd.DataFrame(top_5_countries)"
   ]
  },
  {
   "cell_type": "code",
   "execution_count": null,
   "metadata": {
    "collapsed": true
   },
   "outputs": [],
   "source": [
    "merge_extract_12 = pd.merge(df_top_5_12, yearfilter, on=['Country'])\n",
    "#merge_extract"
   ]
  },
  {
   "cell_type": "markdown",
   "metadata": {},
   "source": [
    "Create a seaborn FacetGrid to show the internet usage trend over time for these 5 countries."
   ]
  },
  {
   "cell_type": "code",
   "execution_count": null,
   "metadata": {
    "scrolled": true
   },
   "outputs": [],
   "source": [
    "charts=sns.FacetGrid(merge_extract, col='Country')\n",
    "charts=charts.map(plt.scatter, \"Year\", \"Web Usage\")\n"
   ]
  },
  {
   "cell_type": "markdown",
   "metadata": {},
   "source": [
    "### Repeat the steps (26-27) to look at the trend for 5 countries with the lowest 2012 internet usage."
   ]
  },
  {
   "cell_type": "code",
   "execution_count": null,
   "metadata": {
    "collapsed": true
   },
   "outputs": [],
   "source": [
    "bot_5_countries=yearfilter12_sort.tail(5)['Country']"
   ]
  },
  {
   "cell_type": "code",
   "execution_count": null,
   "metadata": {
    "collapsed": true
   },
   "outputs": [],
   "source": [
    "df_bot_5_12=pd.DataFrame(bot_5_countries)"
   ]
  },
  {
   "cell_type": "code",
   "execution_count": null,
   "metadata": {
    "collapsed": true
   },
   "outputs": [],
   "source": [
    "merge_extract_12 = pd.merge(df_bot_5_12, yearfilter, on=['Country'])"
   ]
  },
  {
   "cell_type": "code",
   "execution_count": null,
   "metadata": {},
   "outputs": [],
   "source": [
    "charts=sns.FacetGrid(merge_extract_12, col='Country')\n",
    "charts=charts.map(plt.scatter, \"Year\", \"Web Usage\")"
   ]
  },
  {
   "cell_type": "markdown",
   "metadata": {},
   "source": [
    "Do the same thing (top 5 for 2012 and bottom 5 for 2012) to look at 10-year trends in Net Migration."
   ]
  },
  {
   "cell_type": "code",
   "execution_count": null,
   "metadata": {},
   "outputs": [],
   "source": [
    "top_5_countries=yearfilter12m_sort.head(5)['Country']\n",
    "df_top_5_12=pd.DataFrame(top_5_countries)\n",
    "\n",
    "merge_extract_12 = pd.merge(df_top_5_12, yearfilter, on=['Country'])\n",
    "#merge_extract\n",
    "\n",
    "\n",
    "charts=sns.FacetGrid(merge_extract, col='Country')\n",
    "charts=charts.map(plt.scatter, \"Year\", \"Migration %\")\n"
   ]
  },
  {
   "cell_type": "code",
   "execution_count": null,
   "metadata": {
    "collapsed": true
   },
   "outputs": [],
   "source": [
    "bot_5_countries=yearfilter12m_sort.tail(5)['Country']"
   ]
  },
  {
   "cell_type": "code",
   "execution_count": null,
   "metadata": {
    "collapsed": true
   },
   "outputs": [],
   "source": [
    "df_bot_5_12=pd.DataFrame(bot_5_countries)"
   ]
  },
  {
   "cell_type": "code",
   "execution_count": null,
   "metadata": {
    "collapsed": true
   },
   "outputs": [],
   "source": [
    "merge_extract_12 = pd.merge(df_bot_5_12, yearfilter, on=['Country'])"
   ]
  },
  {
   "cell_type": "code",
   "execution_count": null,
   "metadata": {},
   "outputs": [],
   "source": [
    "charts=sns.FacetGrid(merge_extract_12, col='Country')\n",
    "charts=charts.map(plt.scatter, \"Year\", \"Migration %\")"
   ]
  },
  {
   "cell_type": "markdown",
   "metadata": {},
   "source": [
    "Is there anything surprising or unusual in any of these plots? Searching on the internet, can you find any possible explanations for unusual findings?\n",
    "\n",
    "Download another data set from the UN data (http://data.un.org/Explorer.aspx) to merge with your data and explore.\n",
    "\n",
    "Look through the bokeh gallery (https://bokeh.pydata.org/en/latest/docs/gallery.html#gallery) and if time allows create a bokeh visualization using the UN data.\n"
   ]
  }
 ],
 "metadata": {
  "kernelspec": {
   "display_name": "Python 3",
   "language": "python",
   "name": "python3"
  },
  "language_info": {
   "codemirror_mode": {
    "name": "ipython",
    "version": 3
   },
   "file_extension": ".py",
   "mimetype": "text/x-python",
   "name": "python",
   "nbconvert_exporter": "python",
   "pygments_lexer": "ipython3",
   "version": "3.6.2"
  }
 },
 "nbformat": 4,
 "nbformat_minor": 2
}
